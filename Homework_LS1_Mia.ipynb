{
 "cells": [
  {
   "cell_type": "code",
   "execution_count": 51,
   "metadata": {},
   "outputs": [
    {
     "data": {
      "text/plain": [
       "'爸爸要到你怀里，得怎么走？'"
      ]
     },
     "execution_count": 51,
     "metadata": {},
     "output_type": "execute_result"
    }
   ],
   "source": [
    "import random\n",
    "\n",
    "\n",
    "driver = \"\"\"\n",
    "sentence = subject want verb place help_verb question\n",
    "subject = 我 | 爸爸\n",
    "want = 要 | 想\n",
    "verb = 去 | 回 | 到\n",
    "place = 你家， | 你心里， | 你身边， | 你怀里， | 你床上，\n",
    "help_verb = 要 | 得\n",
    "question = 怎么走？ | 多长时间？\"\"\"\n",
    "\n",
    "\n",
    "def create_grammar(grammar_str):\n",
    "    grammar = {}\n",
    "    \n",
    "    for line in grammar_str.split('\\n'):\n",
    "#         \"\"\"split the string by lines\"\"\"\n",
    "        if not line.strip(): continue    \n",
    "#         \"\"\"delete the first and last line without content\"\"\"\n",
    "        exp, stmt = line.split('=')\n",
    "#     \"\"\"divide the dictionary with key and value, key as exp, and value as stmt\"\"\"\n",
    "        grammar[exp.strip()] = [s.split() for s in stmt.split('|')]\n",
    "#     \"\"\"get rid of the space in the key, and split the value with the symbal and put all the values in a list\"\"\"\n",
    "    return grammar\n",
    "\n",
    "# grammar_driver = create_grammar(grammar_str = driver)\n",
    "# grammar_pi = create_grammar(grammar_str = littlepi)\n",
    "\n",
    "choice = random.choice\n",
    "\n",
    "def generate(gram, target):\n",
    "    if target not in gram: return target\n",
    "    \n",
    "    expand = [generate(gram, t) for t in choice(gram[target])]\n",
    "    return \"\".join([e if e != '\\n' else '/n' for e in expand if e != \"null\"])\n",
    "\n",
    "driver_grammar = create_grammar(driver)\n",
    "generate(gram =  driver_grammar, target = 'sentence')\n"
   ]
  },
  {
   "cell_type": "code",
   "execution_count": 56,
   "metadata": {},
   "outputs": [
    {
     "data": {
      "text/plain": [
       "'Yo!我是你爸爸啊！我最喜欢你了！'"
      ]
     },
     "execution_count": 56,
     "metadata": {},
     "output_type": "execute_result"
    }
   ],
   "source": [
    "littlepi = \"\"\"\n",
    "answer = greeting im name aq\n",
    "greeting = Hi! | Yo! | 么么么\n",
    "im = 我是\n",
    "name = 小可爱啊！ | 小可皮啊！ | 你爸爸啊！\n",
    "aq = 我就在这儿啊！ | 我最喜欢你了！\n",
    "\"\"\"\n",
    "\n",
    "\n",
    "def create_grammar(grammar_str):\n",
    "    grammar = {}\n",
    "    \n",
    "    for line in grammar_str.split('\\n'):\n",
    "#         \"\"\"split the string by lines\"\"\"\n",
    "        if not line.strip(): continue    \n",
    "#         \"\"\"delete the first and last line without content\"\"\"\n",
    "        exp, stmt = line.split('=')\n",
    "#     \"\"\"divide the dictionary with key and value, key as exp, and value as stmt\"\"\"\n",
    "        grammar[exp.strip()] = [s.split() for s in stmt.split('|')]\n",
    "#     \"\"\"get rid of the space in the key, and split the value with the symbal and put all the values in a list\"\"\"\n",
    "    return grammar\n",
    "\n",
    "# grammar_driver = create_grammar(grammar_str = driver)\n",
    "# grammar_pi = create_grammar(grammar_str = littlepi)\n",
    "\n",
    "choice = random.choice\n",
    "\n",
    "def generate(gram, target):\n",
    "    if target not in gram: return target\n",
    "    \n",
    "    expand = [generate(gram, t) for t in choice(gram[target])]\n",
    "    return \"\".join([e if e != '\\n' else '/n' for e in expand if e != \"null\"])\n",
    "\n",
    "pi_grammar = create_grammar(littlepi)\n",
    "generate(gram =  pi_grammar, target = 'answer')"
   ]
  },
  {
   "cell_type": "code",
   "execution_count": null,
   "metadata": {},
   "outputs": [],
   "source": [
    "import jieba\n",
    "from collections import Counter\n",
    "import re\n",
    "\n",
    "token = []\n",
    "\n",
    "\n",
    "for i, line in enumerate(open('train.txt', 'rb')):\n",
    "    token += jieba.cut(line)\n",
    "#     token = re.sub(r\"[!@#$%^&*()]\", \" \", token)\n",
    "    print(token[0])\n",
    "        \n",
    "# word_count = Counter(token)\n",
    "# # word_count\n",
    "\n",
    "# def prob_word(word): return word_count[word] / len(token)\n",
    "\n",
    "# token = [str(t) for t in token]\n",
    "# # token\n",
    "# token_2_gram = [''.join(token[i: i+2]) for i in range(len(token[:-1]))]\n",
    "# # token_2_gram\n",
    "\n",
    "# word_count_2 = Counter(token_2_gram) \n",
    "# #  to check the frequency of the 2 gram tokens\n",
    "# word_count_2\n",
    "\n",
    "# def prob_2_word(word1, word2):\n",
    "#         if word1 + word2 in word_count_2:\n",
    "#             return word_count_2[word1 + word2] / len(token_2_gram)\n",
    "#         else:\n",
    "#             return 1/len(token_2_gram)\n",
    "\n",
    "# prob_2_word(\"保险\", \"吗\")\n",
    "# # prob_2_word(\"赔偿\", \"秘书\")"
   ]
  },
  {
   "cell_type": "code",
   "execution_count": null,
   "metadata": {
    "collapsed": true
   },
   "outputs": [],
   "source": []
  }
 ],
 "metadata": {
  "kernelspec": {
   "display_name": "Python 3",
   "language": "python",
   "name": "python3"
  },
  "language_info": {
   "codemirror_mode": {
    "name": "ipython",
    "version": 3
   },
   "file_extension": ".py",
   "mimetype": "text/x-python",
   "name": "python",
   "nbconvert_exporter": "python",
   "pygments_lexer": "ipython3",
   "version": "3.6.1"
  }
 },
 "nbformat": 4,
 "nbformat_minor": 2
}
